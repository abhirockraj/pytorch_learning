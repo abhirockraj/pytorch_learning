{
 "cells": [
  {
   "cell_type": "markdown",
   "id": "065edc74",
   "metadata": {},
   "source": [
    "x= torch.empty(1)  -> is a scalar ,\n",
    "x = torch.empty(1<) -> is a 1D Vector"
   ]
  },
  {
   "cell_type": "code",
   "execution_count": 3,
   "id": "3a781fb3",
   "metadata": {},
   "outputs": [],
   "source": [
    "import torch\n",
    "import numpy as np"
   ]
  },
  {
   "cell_type": "code",
   "execution_count": 3,
   "id": "ccb0319d",
   "metadata": {},
   "outputs": [
    {
     "name": "stdout",
     "output_type": "stream",
     "text": [
      "tensor([-9.2097e-34])\n"
     ]
    }
   ],
   "source": [
    "x= torch.empty(1)\n",
    "print(x)"
   ]
  },
  {
   "cell_type": "code",
   "execution_count": 4,
   "id": "49d878d8",
   "metadata": {},
   "outputs": [
    {
     "name": "stdout",
     "output_type": "stream",
     "text": [
      "tensor([-6.5882e+24,  3.0803e-41, -6.5924e+24,  3.0803e-41])\n"
     ]
    }
   ],
   "source": [
    "x= torch.empty(4)\n",
    "print(x)"
   ]
  },
  {
   "cell_type": "code",
   "execution_count": 5,
   "id": "ded9df4b",
   "metadata": {},
   "outputs": [
    {
     "name": "stdout",
     "output_type": "stream",
     "text": [
      "tensor([[[[-6.5585e+24,  3.0803e-41],\n",
      "          [ 0.0000e+00,  0.0000e+00]],\n",
      "\n",
      "         [[ 1.4013e-45,  0.0000e+00],\n",
      "          [ 5.6052e-45,  0.0000e+00]]],\n",
      "\n",
      "\n",
      "        [[[ 0.0000e+00,  0.0000e+00],\n",
      "          [ 0.0000e+00,  0.0000e+00]],\n",
      "\n",
      "         [[ 0.0000e+00,  0.0000e+00],\n",
      "          [ 0.0000e+00,  0.0000e+00]]]])\n"
     ]
    }
   ],
   "source": [
    "x=torch.empty(2,2,2,2) #4D vector\n",
    "print(x)"
   ]
  },
  {
   "cell_type": "code",
   "execution_count": 6,
   "id": "4c2ca701",
   "metadata": {},
   "outputs": [
    {
     "name": "stdout",
     "output_type": "stream",
     "text": [
      "tensor([[0.1607, 0.9627],\n",
      "        [0.2649, 0.2861]])\n"
     ]
    }
   ],
   "source": [
    "x =torch.rand(2,2)\n",
    "print(x)"
   ]
  },
  {
   "cell_type": "code",
   "execution_count": 7,
   "id": "d615a24c",
   "metadata": {},
   "outputs": [
    {
     "name": "stdout",
     "output_type": "stream",
     "text": [
      "tensor([[0., 0.],\n",
      "        [0., 0.]])\n"
     ]
    }
   ],
   "source": [
    "x =torch.zeros(2,2)\n",
    "print(x)"
   ]
  },
  {
   "cell_type": "code",
   "execution_count": 8,
   "id": "e8bcd962",
   "metadata": {},
   "outputs": [
    {
     "name": "stdout",
     "output_type": "stream",
     "text": [
      "tensor([[1., 1.],\n",
      "        [1., 1.]])\n"
     ]
    }
   ],
   "source": [
    "x =torch.ones(2,2)\n",
    "print(x)"
   ]
  },
  {
   "cell_type": "code",
   "execution_count": 10,
   "id": "6617bb5c",
   "metadata": {},
   "outputs": [
    {
     "name": "stdout",
     "output_type": "stream",
     "text": [
      "tensor([[0.1406, 0.4473],\n",
      "        [0.7594, 0.8483]])\n",
      "tensor([[0.0997, 0.3298],\n",
      "        [0.1965, 0.4773]])\n",
      "tensor([[0.2403, 0.7772],\n",
      "        [0.9559, 1.3256]])\n"
     ]
    }
   ],
   "source": [
    "x =torch.rand(2,2)\n",
    "y= torch.rand(2,2)\n",
    "z=x+y      # or  torch.add(x,y)\n",
    "print(x)\n",
    "print(y)\n",
    "print(z)"
   ]
  },
  {
   "cell_type": "code",
   "execution_count": 11,
   "id": "a3cc9785",
   "metadata": {},
   "outputs": [
    {
     "name": "stdout",
     "output_type": "stream",
     "text": [
      "tensor([[0.2403, 0.7772],\n",
      "        [0.9559, 1.3256]])\n"
     ]
    }
   ],
   "source": [
    "#in place addition\n",
    "y.add_(x)#will add y+x and put the value in y\n",
    "print(y)\n",
    "# inplace operations can be done for sub,mul and div also"
   ]
  },
  {
   "cell_type": "code",
   "execution_count": 12,
   "id": "61772e7f",
   "metadata": {},
   "outputs": [],
   "source": [
    "#  z= x+y or torch.add(x,y)\n",
    "#  z= x-y or torch.sub(x,y)\n",
    "#  z= x*y or torch.mul(x,y)\n",
    "#  z= x/y or torch.div(x,y)"
   ]
  },
  {
   "cell_type": "code",
   "execution_count": 15,
   "id": "0971cf30",
   "metadata": {},
   "outputs": [
    {
     "name": "stdout",
     "output_type": "stream",
     "text": [
      "tensor([[0.2854, 0.1832, 0.2986, 0.1969],\n",
      "        [0.8907, 0.2385, 0.7855, 0.6281],\n",
      "        [0.2073, 0.2543, 0.1231, 0.6439]])\n",
      "tensor([0.1969, 0.6281, 0.6439])\n"
     ]
    }
   ],
   "source": [
    "x= torch.rand(3,4)\n",
    "print(x)\n",
    "print(x[:,3])#-> all rows of last col \n",
    "#slicing operations like list and numpy array"
   ]
  },
  {
   "cell_type": "markdown",
   "id": "ced9640f",
   "metadata": {},
   "source": [
    "## Manual linear regression uing python "
   ]
  },
  {
   "cell_type": "code",
   "execution_count": 44,
   "id": "415efe15",
   "metadata": {},
   "outputs": [
    {
     "name": "stdout",
     "output_type": "stream",
     "text": [
      "[1. 2. 3. 4.] [2. 4. 6. 8.]\n"
     ]
    }
   ],
   "source": [
    "#y=w*x this is actuall function\n",
    "x=  np.array([1,2,3,4],dtype=float)\n",
    "y=  np.array([2,4,6,8],dtype=float)\n",
    "w=0.0\n",
    "print(x,y)"
   ]
  },
  {
   "cell_type": "code",
   "execution_count": 45,
   "id": "0ae214b3",
   "metadata": {},
   "outputs": [
    {
     "name": "stdout",
     "output_type": "stream",
     "text": [
      "loss: 30.0  y_hat: [0. 0. 0. 0.]  y: [2. 4. 6. 8.]  weight: 1.2\n",
      "loss: 4.800000000000001  y_hat: [1.2 2.4 3.6 4.8]  y: [2. 4. 6. 8.]  weight: 1.68\n",
      "loss: 0.7680000000000002  y_hat: [1.68 3.36 5.04 6.72]  y: [2. 4. 6. 8.]  weight: 1.8719999999999999\n",
      "loss: 0.12288000000000023  y_hat: [1.872 3.744 5.616 7.488]  y: [2. 4. 6. 8.]  weight: 1.9487999999999999\n",
      "loss: 0.019660800000000138  y_hat: [1.9488 3.8976 5.8464 7.7952]  y: [2. 4. 6. 8.]  weight: 1.97952\n",
      "loss: 0.0031457280000000165  y_hat: [1.97952 3.95904 5.93856 7.91808]  y: [2. 4. 6. 8.]  weight: 1.991808\n",
      "loss: 0.0005033164799999944  y_hat: [1.991808 3.983616 5.975424 7.967232]  y: [2. 4. 6. 8.]  weight: 1.9967232\n",
      "loss: 8.053063680000391e-05  y_hat: [1.9967232 3.9934464 5.9901696 7.9868928]  y: [2. 4. 6. 8.]  weight: 1.99868928\n",
      "loss: 1.2884901887999318e-05  y_hat: [1.99868928 3.99737856 5.99606784 7.99475712]  y: [2. 4. 6. 8.]  weight: 1.999475712\n",
      "loss: 2.061584302080135e-06  y_hat: [1.99947571 3.99895142 5.99842714 7.99790285]  y: [2. 4. 6. 8.]  weight: 1.9997902848\n",
      "loss: 3.2985348833270984e-07  y_hat: [1.99979028 3.99958057 5.99937085 7.99916114]  y: [2. 4. 6. 8.]  weight: 1.99991611392\n",
      "loss: 5.277655813331181e-08  y_hat: [1.99991611 3.99983223 5.99974834 7.99966446]  y: [2. 4. 6. 8.]  weight: 1.999966445568\n",
      "loss: 8.44424930133883e-09  y_hat: [1.99996645 3.99993289 5.99989934 7.99986578]  y: [2. 4. 6. 8.]  weight: 1.9999865782272\n",
      "loss: 1.3510798882276239e-09  y_hat: [1.99998658 3.99997316 5.99995973 7.99994631]  y: [2. 4. 6. 8.]  weight: 1.99999463129088\n",
      "loss: 2.16172782108552e-10  y_hat: [1.99999463 3.99998926 5.99998389 7.99997853]  y: [2. 4. 6. 8.]  weight: 1.999997852516352\n",
      "loss: 3.458764513951409e-11  y_hat: [1.99999785 3.99999571 5.99999356 7.99999141]  y: [2. 4. 6. 8.]  weight: 1.9999991410065407\n",
      "loss: 5.534023222493915e-12  y_hat: [1.99999914 3.99999828 5.99999742 7.99999656]  y: [2. 4. 6. 8.]  weight: 1.9999996564026163\n",
      "loss: 8.854437155303619e-13  y_hat: [1.99999966 3.99999931 5.99999897 7.99999863]  y: [2. 4. 6. 8.]  weight: 1.9999998625610464\n",
      "loss: 1.4167099464965283e-13  y_hat: [1.99999986 3.99999973 5.99999959 7.99999945]  y: [2. 4. 6. 8.]  weight: 1.9999999450244186\n",
      "loss: 2.2667359143944455e-14  y_hat: [1.99999995 3.99999989 5.99999984 7.99999978]  y: [2. 4. 6. 8.]  weight: 1.9999999780097675\n",
      "loss: 3.626777441058456e-15  y_hat: [1.99999998 3.99999996 5.99999993 7.99999991]  y: [2. 4. 6. 8.]  weight: 1.999999991203907\n",
      "loss: 5.802843888115405e-16  y_hat: [1.99999999 3.99999998 5.99999997 7.99999996]  y: [2. 4. 6. 8.]  weight: 1.999999996481563\n",
      "loss: 9.284549705359657e-17  y_hat: [2.         3.99999999 5.99999999 7.99999999]  y: [2. 4. 6. 8.]  weight: 1.9999999985926251\n",
      "loss: 1.485528093482545e-17  y_hat: [2.         4.         6.         7.99999999]  y: [2. 4. 6. 8.]  weight: 1.99999999943705\n",
      "loss: 2.3768446870720822e-18  y_hat: [2. 4. 6. 8.]  y: [2. 4. 6. 8.]  weight: 1.9999999997748201\n",
      "loss: 3.8029481993161644e-19  y_hat: [2. 4. 6. 8.]  y: [2. 4. 6. 8.]  weight: 1.999999999909928\n",
      "loss: 6.084717118905863e-20  y_hat: [2. 4. 6. 8.]  y: [2. 4. 6. 8.]  weight: 1.9999999999639713\n",
      "loss: 9.735511390308335e-21  y_hat: [2. 4. 6. 8.]  y: [2. 4. 6. 8.]  weight: 1.9999999999855884\n",
      "loss: 1.5577029424704934e-21  y_hat: [2. 4. 6. 8.]  y: [2. 4. 6. 8.]  weight: 1.9999999999942353\n",
      "loss: 2.492439910142552e-22  y_hat: [2. 4. 6. 8.]  y: [2. 4. 6. 8.]  weight: 1.999999999997694\n",
      "loss: 3.988072822986322e-23  y_hat: [2. 4. 6. 8.]  y: [2. 4. 6. 8.]  weight: 1.9999999999990776\n",
      "loss: 6.381408103339812e-24  y_hat: [2. 4. 6. 8.]  y: [2. 4. 6. 8.]  weight: 1.9999999999996312\n",
      "loss: 1.0203126578350017e-24  y_hat: [2. 4. 6. 8.]  y: [2. 4. 6. 8.]  weight: 1.9999999999998526\n",
      "loss: 1.630338832820265e-25  y_hat: [2. 4. 6. 8.]  y: [2. 4. 6. 8.]  weight: 1.999999999999941\n",
      "loss: 2.620344477730662e-26  y_hat: [2. 4. 6. 8.]  y: [2. 4. 6. 8.]  weight: 1.9999999999999765\n",
      "loss: 4.1705596944837605e-27  y_hat: [2. 4. 6. 8.]  y: [2. 4. 6. 8.]  weight: 1.9999999999999907\n",
      "loss: 6.585509444398159e-28  y_hat: [2. 4. 6. 8.]  y: [2. 4. 6. 8.]  weight: 1.9999999999999962\n",
      "loss: 1.08135573773499e-28  y_hat: [2. 4. 6. 8.]  y: [2. 4. 6. 8.]  weight: 1.9999999999999984\n",
      "loss: 1.7613784899387904e-29  y_hat: [2. 4. 6. 8.]  y: [2. 4. 6. 8.]  weight: 1.9999999999999993\n",
      "loss: 3.1184657659518123e-30  y_hat: [2. 4. 6. 8.]  y: [2. 4. 6. 8.]  weight: 1.9999999999999998\n",
      "loss: 4.5606021083089745e-31  y_hat: [2. 4. 6. 8.]  y: [2. 4. 6. 8.]  weight: 2.0\n",
      "loss: 0.0  y_hat: [2. 4. 6. 8.]  y: [2. 4. 6. 8.]  weight: 2.0\n",
      "loss: 0.0  y_hat: [2. 4. 6. 8.]  y: [2. 4. 6. 8.]  weight: 2.0\n",
      "loss: 0.0  y_hat: [2. 4. 6. 8.]  y: [2. 4. 6. 8.]  weight: 2.0\n",
      "loss: 0.0  y_hat: [2. 4. 6. 8.]  y: [2. 4. 6. 8.]  weight: 2.0\n",
      "loss: 0.0  y_hat: [2. 4. 6. 8.]  y: [2. 4. 6. 8.]  weight: 2.0\n",
      "loss: 0.0  y_hat: [2. 4. 6. 8.]  y: [2. 4. 6. 8.]  weight: 2.0\n",
      "loss: 0.0  y_hat: [2. 4. 6. 8.]  y: [2. 4. 6. 8.]  weight: 2.0\n",
      "loss: 0.0  y_hat: [2. 4. 6. 8.]  y: [2. 4. 6. 8.]  weight: 2.0\n",
      "loss: 0.0  y_hat: [2. 4. 6. 8.]  y: [2. 4. 6. 8.]  weight: 2.0\n"
     ]
    }
   ],
   "source": [
    "\n",
    "#forward\n",
    "def forward(x,w):\n",
    "    return(x*w)\n",
    "\n",
    "#loss Mean sqared error\n",
    "def loss(y,y_hat):\n",
    "    return((y_hat-y)**2).mean()\n",
    "\n",
    "#Gradient desent\n",
    "def grad(x,y,y_hat):\n",
    "    return np.dot(2*x,(y_hat-y)).mean()\n",
    "\n",
    "lr=0.01\n",
    "\n",
    "for _ in range(50):\n",
    "    y_hat= forward(x,w)\n",
    "    l = loss(y,y_hat)\n",
    "    gd= grad(x,y,y_hat)\n",
    "    w-=lr*gd\n",
    "    print(\"loss:\",l,\" y_hat:\",y_hat,\" y:\",y,\" weight:\",w)\n",
    "    \n",
    "    \n",
    "    \n",
    "    \n",
    "    \n",
    "    \n",
    "    \n",
    "    "
   ]
  },
  {
   "cell_type": "markdown",
   "id": "18778086",
   "metadata": {},
   "source": [
    "# Developing Linear regression models in pytorch"
   ]
  },
  {
   "cell_type": "code",
   "execution_count": 59,
   "id": "6f31d5ff",
   "metadata": {},
   "outputs": [],
   "source": [
    "x=  torch.tensor([1,2,3,4],dtype=float)\n",
    "y=  torch.tensor([2,4,6,8],dtype=float)\n",
    "w= torch.tensor(0.0,dtype=float,requires_grad=True)"
   ]
  },
  {
   "cell_type": "code",
   "execution_count": 60,
   "id": "795a07f0",
   "metadata": {},
   "outputs": [
    {
     "name": "stdout",
     "output_type": "stream",
     "text": [
      "loss: tensor(30., dtype=torch.float64, grad_fn=<MeanBackward0>) weight: tensor(0.3000, dtype=torch.float64, requires_grad=True)\n",
      "loss: tensor(21.6750, dtype=torch.float64, grad_fn=<MeanBackward0>) weight: tensor(0.5550, dtype=torch.float64, requires_grad=True)\n",
      "loss: tensor(15.6602, dtype=torch.float64, grad_fn=<MeanBackward0>) weight: tensor(0.7717, dtype=torch.float64, requires_grad=True)\n",
      "loss: tensor(11.3145, dtype=torch.float64, grad_fn=<MeanBackward0>) weight: tensor(0.9560, dtype=torch.float64, requires_grad=True)\n",
      "loss: tensor(8.1747, dtype=torch.float64, grad_fn=<MeanBackward0>) weight: tensor(1.1126, dtype=torch.float64, requires_grad=True)\n",
      "loss: tensor(5.9062, dtype=torch.float64, grad_fn=<MeanBackward0>) weight: tensor(1.2457, dtype=torch.float64, requires_grad=True)\n",
      "loss: tensor(4.2673, dtype=torch.float64, grad_fn=<MeanBackward0>) weight: tensor(1.3588, dtype=torch.float64, requires_grad=True)\n",
      "loss: tensor(3.0831, dtype=torch.float64, grad_fn=<MeanBackward0>) weight: tensor(1.4550, dtype=torch.float64, requires_grad=True)\n",
      "loss: tensor(2.2275, dtype=torch.float64, grad_fn=<MeanBackward0>) weight: tensor(1.5368, dtype=torch.float64, requires_grad=True)\n",
      "loss: tensor(1.6094, dtype=torch.float64, grad_fn=<MeanBackward0>) weight: tensor(1.6063, dtype=torch.float64, requires_grad=True)\n",
      "loss: tensor(1.1628, dtype=torch.float64, grad_fn=<MeanBackward0>) weight: tensor(1.6653, dtype=torch.float64, requires_grad=True)\n",
      "loss: tensor(0.8401, dtype=torch.float64, grad_fn=<MeanBackward0>) weight: tensor(1.7155, dtype=torch.float64, requires_grad=True)\n",
      "loss: tensor(0.6070, dtype=torch.float64, grad_fn=<MeanBackward0>) weight: tensor(1.7582, dtype=torch.float64, requires_grad=True)\n",
      "loss: tensor(0.4385, dtype=torch.float64, grad_fn=<MeanBackward0>) weight: tensor(1.7945, dtype=torch.float64, requires_grad=True)\n",
      "loss: tensor(0.3168, dtype=torch.float64, grad_fn=<MeanBackward0>) weight: tensor(1.8253, dtype=torch.float64, requires_grad=True)\n",
      "loss: tensor(0.2289, dtype=torch.float64, grad_fn=<MeanBackward0>) weight: tensor(1.8515, dtype=torch.float64, requires_grad=True)\n",
      "loss: tensor(0.1654, dtype=torch.float64, grad_fn=<MeanBackward0>) weight: tensor(1.8738, dtype=torch.float64, requires_grad=True)\n",
      "loss: tensor(0.1195, dtype=torch.float64, grad_fn=<MeanBackward0>) weight: tensor(1.8927, dtype=torch.float64, requires_grad=True)\n",
      "loss: tensor(0.0863, dtype=torch.float64, grad_fn=<MeanBackward0>) weight: tensor(1.9088, dtype=torch.float64, requires_grad=True)\n",
      "loss: tensor(0.0624, dtype=torch.float64, grad_fn=<MeanBackward0>) weight: tensor(1.9225, dtype=torch.float64, requires_grad=True)\n",
      "loss: tensor(0.0451, dtype=torch.float64, grad_fn=<MeanBackward0>) weight: tensor(1.9341, dtype=torch.float64, requires_grad=True)\n",
      "loss: tensor(0.0326, dtype=torch.float64, grad_fn=<MeanBackward0>) weight: tensor(1.9440, dtype=torch.float64, requires_grad=True)\n",
      "loss: tensor(0.0235, dtype=torch.float64, grad_fn=<MeanBackward0>) weight: tensor(1.9524, dtype=torch.float64, requires_grad=True)\n",
      "loss: tensor(0.0170, dtype=torch.float64, grad_fn=<MeanBackward0>) weight: tensor(1.9595, dtype=torch.float64, requires_grad=True)\n",
      "loss: tensor(0.0123, dtype=torch.float64, grad_fn=<MeanBackward0>) weight: tensor(1.9656, dtype=torch.float64, requires_grad=True)\n",
      "loss: tensor(0.0089, dtype=torch.float64, grad_fn=<MeanBackward0>) weight: tensor(1.9708, dtype=torch.float64, requires_grad=True)\n",
      "loss: tensor(0.0064, dtype=torch.float64, grad_fn=<MeanBackward0>) weight: tensor(1.9751, dtype=torch.float64, requires_grad=True)\n",
      "loss: tensor(0.0046, dtype=torch.float64, grad_fn=<MeanBackward0>) weight: tensor(1.9789, dtype=torch.float64, requires_grad=True)\n",
      "loss: tensor(0.0033, dtype=torch.float64, grad_fn=<MeanBackward0>) weight: tensor(1.9820, dtype=torch.float64, requires_grad=True)\n",
      "loss: tensor(0.0024, dtype=torch.float64, grad_fn=<MeanBackward0>) weight: tensor(1.9847, dtype=torch.float64, requires_grad=True)\n",
      "loss: tensor(0.0017, dtype=torch.float64, grad_fn=<MeanBackward0>) weight: tensor(1.9870, dtype=torch.float64, requires_grad=True)\n",
      "loss: tensor(0.0013, dtype=torch.float64, grad_fn=<MeanBackward0>) weight: tensor(1.9890, dtype=torch.float64, requires_grad=True)\n",
      "loss: tensor(0.0009, dtype=torch.float64, grad_fn=<MeanBackward0>) weight: tensor(1.9906, dtype=torch.float64, requires_grad=True)\n",
      "loss: tensor(0.0007, dtype=torch.float64, grad_fn=<MeanBackward0>) weight: tensor(1.9920, dtype=torch.float64, requires_grad=True)\n",
      "loss: tensor(0.0005, dtype=torch.float64, grad_fn=<MeanBackward0>) weight: tensor(1.9932, dtype=torch.float64, requires_grad=True)\n",
      "loss: tensor(0.0003, dtype=torch.float64, grad_fn=<MeanBackward0>) weight: tensor(1.9942, dtype=torch.float64, requires_grad=True)\n",
      "loss: tensor(0.0002, dtype=torch.float64, grad_fn=<MeanBackward0>) weight: tensor(1.9951, dtype=torch.float64, requires_grad=True)\n",
      "loss: tensor(0.0002, dtype=torch.float64, grad_fn=<MeanBackward0>) weight: tensor(1.9958, dtype=torch.float64, requires_grad=True)\n",
      "loss: tensor(0.0001, dtype=torch.float64, grad_fn=<MeanBackward0>) weight: tensor(1.9965, dtype=torch.float64, requires_grad=True)\n",
      "loss: tensor(9.3712e-05, dtype=torch.float64, grad_fn=<MeanBackward0>) weight: tensor(1.9970, dtype=torch.float64, requires_grad=True)\n",
      "loss: tensor(6.7707e-05, dtype=torch.float64, grad_fn=<MeanBackward0>) weight: tensor(1.9974, dtype=torch.float64, requires_grad=True)\n",
      "loss: tensor(4.8919e-05, dtype=torch.float64, grad_fn=<MeanBackward0>) weight: tensor(1.9978, dtype=torch.float64, requires_grad=True)\n",
      "loss: tensor(3.5344e-05, dtype=torch.float64, grad_fn=<MeanBackward0>) weight: tensor(1.9982, dtype=torch.float64, requires_grad=True)\n",
      "loss: tensor(2.5536e-05, dtype=torch.float64, grad_fn=<MeanBackward0>) weight: tensor(1.9984, dtype=torch.float64, requires_grad=True)\n",
      "loss: tensor(1.8450e-05, dtype=torch.float64, grad_fn=<MeanBackward0>) weight: tensor(1.9987, dtype=torch.float64, requires_grad=True)\n",
      "loss: tensor(1.3330e-05, dtype=torch.float64, grad_fn=<MeanBackward0>) weight: tensor(1.9989, dtype=torch.float64, requires_grad=True)\n",
      "loss: tensor(9.6308e-06, dtype=torch.float64, grad_fn=<MeanBackward0>) weight: tensor(1.9990, dtype=torch.float64, requires_grad=True)\n",
      "loss: tensor(6.9583e-06, dtype=torch.float64, grad_fn=<MeanBackward0>) weight: tensor(1.9992, dtype=torch.float64, requires_grad=True)\n",
      "loss: tensor(5.0273e-06, dtype=torch.float64, grad_fn=<MeanBackward0>) weight: tensor(1.9993, dtype=torch.float64, requires_grad=True)\n",
      "loss: tensor(3.6323e-06, dtype=torch.float64, grad_fn=<MeanBackward0>) weight: tensor(1.9994, dtype=torch.float64, requires_grad=True)\n",
      "loss: tensor(2.6243e-06, dtype=torch.float64, grad_fn=<MeanBackward0>) weight: tensor(1.9995, dtype=torch.float64, requires_grad=True)\n",
      "loss: tensor(1.8961e-06, dtype=torch.float64, grad_fn=<MeanBackward0>) weight: tensor(1.9996, dtype=torch.float64, requires_grad=True)\n",
      "loss: tensor(1.3699e-06, dtype=torch.float64, grad_fn=<MeanBackward0>) weight: tensor(1.9996, dtype=torch.float64, requires_grad=True)\n",
      "loss: tensor(9.8975e-07, dtype=torch.float64, grad_fn=<MeanBackward0>) weight: tensor(1.9997, dtype=torch.float64, requires_grad=True)\n",
      "loss: tensor(7.1510e-07, dtype=torch.float64, grad_fn=<MeanBackward0>) weight: tensor(1.9997, dtype=torch.float64, requires_grad=True)\n",
      "loss: tensor(5.1666e-07, dtype=torch.float64, grad_fn=<MeanBackward0>) weight: tensor(1.9998, dtype=torch.float64, requires_grad=True)\n",
      "loss: tensor(3.7329e-07, dtype=torch.float64, grad_fn=<MeanBackward0>) weight: tensor(1.9998, dtype=torch.float64, requires_grad=True)\n",
      "loss: tensor(2.6970e-07, dtype=torch.float64, grad_fn=<MeanBackward0>) weight: tensor(1.9998, dtype=torch.float64, requires_grad=True)\n",
      "loss: tensor(1.9486e-07, dtype=torch.float64, grad_fn=<MeanBackward0>) weight: tensor(1.9999, dtype=torch.float64, requires_grad=True)\n",
      "loss: tensor(1.4078e-07, dtype=torch.float64, grad_fn=<MeanBackward0>) weight: tensor(1.9999, dtype=torch.float64, requires_grad=True)\n",
      "loss: tensor(1.0172e-07, dtype=torch.float64, grad_fn=<MeanBackward0>) weight: tensor(1.9999, dtype=torch.float64, requires_grad=True)\n",
      "loss: tensor(7.3490e-08, dtype=torch.float64, grad_fn=<MeanBackward0>) weight: tensor(1.9999, dtype=torch.float64, requires_grad=True)\n",
      "loss: tensor(5.3097e-08, dtype=torch.float64, grad_fn=<MeanBackward0>) weight: tensor(1.9999, dtype=torch.float64, requires_grad=True)\n",
      "loss: tensor(3.8362e-08, dtype=torch.float64, grad_fn=<MeanBackward0>) weight: tensor(1.9999, dtype=torch.float64, requires_grad=True)\n",
      "loss: tensor(2.7717e-08, dtype=torch.float64, grad_fn=<MeanBackward0>) weight: tensor(1.9999, dtype=torch.float64, requires_grad=True)\n",
      "loss: tensor(2.0025e-08, dtype=torch.float64, grad_fn=<MeanBackward0>) weight: tensor(2.0000, dtype=torch.float64, requires_grad=True)\n",
      "loss: tensor(1.4468e-08, dtype=torch.float64, grad_fn=<MeanBackward0>) weight: tensor(2.0000, dtype=torch.float64, requires_grad=True)\n",
      "loss: tensor(1.0453e-08, dtype=torch.float64, grad_fn=<MeanBackward0>) weight: tensor(2.0000, dtype=torch.float64, requires_grad=True)\n",
      "loss: tensor(7.5526e-09, dtype=torch.float64, grad_fn=<MeanBackward0>) weight: tensor(2.0000, dtype=torch.float64, requires_grad=True)\n",
      "loss: tensor(5.4567e-09, dtype=torch.float64, grad_fn=<MeanBackward0>) weight: tensor(2.0000, dtype=torch.float64, requires_grad=True)\n",
      "loss: tensor(3.9425e-09, dtype=torch.float64, grad_fn=<MeanBackward0>) weight: tensor(2.0000, dtype=torch.float64, requires_grad=True)\n",
      "loss: tensor(2.8485e-09, dtype=torch.float64, grad_fn=<MeanBackward0>) weight: tensor(2.0000, dtype=torch.float64, requires_grad=True)\n",
      "loss: tensor(2.0580e-09, dtype=torch.float64, grad_fn=<MeanBackward0>) weight: tensor(2.0000, dtype=torch.float64, requires_grad=True)\n",
      "loss: tensor(1.4869e-09, dtype=torch.float64, grad_fn=<MeanBackward0>) weight: tensor(2.0000, dtype=torch.float64, requires_grad=True)\n",
      "loss: tensor(1.0743e-09, dtype=torch.float64, grad_fn=<MeanBackward0>) weight: tensor(2.0000, dtype=torch.float64, requires_grad=True)\n",
      "loss: tensor(7.7618e-10, dtype=torch.float64, grad_fn=<MeanBackward0>) weight: tensor(2.0000, dtype=torch.float64, requires_grad=True)\n",
      "loss: tensor(5.6079e-10, dtype=torch.float64, grad_fn=<MeanBackward0>) weight: tensor(2.0000, dtype=torch.float64, requires_grad=True)\n",
      "loss: tensor(4.0517e-10, dtype=torch.float64, grad_fn=<MeanBackward0>) weight: tensor(2.0000, dtype=torch.float64, requires_grad=True)\n",
      "loss: tensor(2.9273e-10, dtype=torch.float64, grad_fn=<MeanBackward0>) weight: tensor(2.0000, dtype=torch.float64, requires_grad=True)\n",
      "loss: tensor(2.1150e-10, dtype=torch.float64, grad_fn=<MeanBackward0>) weight: tensor(2.0000, dtype=torch.float64, requires_grad=True)\n",
      "loss: tensor(1.5281e-10, dtype=torch.float64, grad_fn=<MeanBackward0>) weight: tensor(2.0000, dtype=torch.float64, requires_grad=True)\n",
      "loss: tensor(1.1040e-10, dtype=torch.float64, grad_fn=<MeanBackward0>) weight: tensor(2.0000, dtype=torch.float64, requires_grad=True)\n",
      "loss: tensor(7.9767e-11, dtype=torch.float64, grad_fn=<MeanBackward0>) weight: tensor(2.0000, dtype=torch.float64, requires_grad=True)\n",
      "loss: tensor(5.7632e-11, dtype=torch.float64, grad_fn=<MeanBackward0>) weight: tensor(2.0000, dtype=torch.float64, requires_grad=True)\n",
      "loss: tensor(4.1639e-11, dtype=torch.float64, grad_fn=<MeanBackward0>) weight: tensor(2.0000, dtype=torch.float64, requires_grad=True)\n",
      "loss: tensor(3.0084e-11, dtype=torch.float64, grad_fn=<MeanBackward0>) weight: tensor(2.0000, dtype=torch.float64, requires_grad=True)\n",
      "loss: tensor(2.1736e-11, dtype=torch.float64, grad_fn=<MeanBackward0>) weight: tensor(2.0000, dtype=torch.float64, requires_grad=True)\n",
      "loss: tensor(1.5704e-11, dtype=torch.float64, grad_fn=<MeanBackward0>) weight: tensor(2.0000, dtype=torch.float64, requires_grad=True)\n",
      "loss: tensor(1.1346e-11, dtype=torch.float64, grad_fn=<MeanBackward0>) weight: tensor(2.0000, dtype=torch.float64, requires_grad=True)\n",
      "loss: tensor(8.1977e-12, dtype=torch.float64, grad_fn=<MeanBackward0>) weight: tensor(2.0000, dtype=torch.float64, requires_grad=True)\n",
      "loss: tensor(5.9228e-12, dtype=torch.float64, grad_fn=<MeanBackward0>) weight: tensor(2.0000, dtype=torch.float64, requires_grad=True)\n",
      "loss: tensor(4.2792e-12, dtype=torch.float64, grad_fn=<MeanBackward0>) weight: tensor(2.0000, dtype=torch.float64, requires_grad=True)\n",
      "loss: tensor(3.0917e-12, dtype=torch.float64, grad_fn=<MeanBackward0>) weight: tensor(2.0000, dtype=torch.float64, requires_grad=True)\n",
      "loss: tensor(2.2338e-12, dtype=torch.float64, grad_fn=<MeanBackward0>) weight: tensor(2.0000, dtype=torch.float64, requires_grad=True)\n",
      "loss: tensor(1.6139e-12, dtype=torch.float64, grad_fn=<MeanBackward0>) weight: tensor(2.0000, dtype=torch.float64, requires_grad=True)\n",
      "loss: tensor(1.1660e-12, dtype=torch.float64, grad_fn=<MeanBackward0>) weight: tensor(2.0000, dtype=torch.float64, requires_grad=True)\n",
      "loss: tensor(8.4247e-13, dtype=torch.float64, grad_fn=<MeanBackward0>) weight: tensor(2.0000, dtype=torch.float64, requires_grad=True)\n",
      "loss: tensor(6.0869e-13, dtype=torch.float64, grad_fn=<MeanBackward0>) weight: tensor(2.0000, dtype=torch.float64, requires_grad=True)\n",
      "loss: tensor(4.3978e-13, dtype=torch.float64, grad_fn=<MeanBackward0>) weight: tensor(2.0000, dtype=torch.float64, requires_grad=True)\n",
      "loss: tensor(3.1774e-13, dtype=torch.float64, grad_fn=<MeanBackward0>) weight: tensor(2.0000, dtype=torch.float64, requires_grad=True)\n"
     ]
    }
   ],
   "source": [
    "# forward\n",
    "def forward(x,w):\n",
    "    return(x*w)\n",
    "#loss Mean sqared error\n",
    "def loss(y,y_hat):\n",
    "    return((y_hat-y)**2).mean()\n",
    "\n",
    "lr=0.01\n",
    "for _ in range(100):\n",
    "    y_hat= forward(x,w)\n",
    "    l = loss(y,y_hat)\n",
    "    l.backward()\n",
    "    with torch.no_grad():\n",
    "        w-=lr*w.grad\n",
    "    w.grad.zero_()    \n",
    "    print(\"loss:\",l,\"weight:\",w)"
   ]
  },
  {
   "cell_type": "markdown",
   "id": "340e5861",
   "metadata": {},
   "source": [
    "# Dataset and Dataloader"
   ]
  },
  {
   "cell_type": "code",
   "execution_count": 1,
   "id": "fa7b586e",
   "metadata": {},
   "outputs": [],
   "source": [
    "import torch\n",
    "import torchvision\n",
    "from torch.utils.data import Dataset,DataLoader\n",
    "import numpy as np\n",
    "import math"
   ]
  },
  {
   "cell_type": "code",
   "execution_count": 7,
   "id": "fa940b9d",
   "metadata": {},
   "outputs": [],
   "source": [
    "class WineDataset(Dataset):\n",
    "    \n",
    "    def __init__(self):\n",
    "        #data loading\n",
    "        xy = np.loadtxt(\"wine.csv\",delimiter=\",\",dtype=np.float32,skiprows=1)\n",
    "        self.x= torch.from_numpy(xy[:,1:])\n",
    "        self.y=torch.from_numpy(xy[:,[0]])\n",
    "        self.n_samples=xy.shape[0]\n",
    "    \n",
    "    def __getitem__(self, index):\n",
    "        #data index\n",
    "        return self.x[index],self.y[index]\n",
    "        \n",
    "    def __len__(self):\n",
    "        #dataset len\n",
    "        return self.n_samples\n",
    "        "
   ]
  },
  {
   "cell_type": "code",
   "execution_count": 8,
   "id": "5f66f858",
   "metadata": {},
   "outputs": [],
   "source": [
    "dataset= WineDataset()\n",
    "dataloader= DataLoader(dataset = dataset, batch_size=4,shuffle=True,num_workers=2)"
   ]
  },
  {
   "cell_type": "code",
   "execution_count": 9,
   "id": "2d121b6c",
   "metadata": {},
   "outputs": [
    {
     "name": "stdout",
     "output_type": "stream",
     "text": [
      "178 45\n"
     ]
    }
   ],
   "source": [
    "#training loop\n",
    "n_epoch=2\n",
    "t_sample= len(dataset)\n",
    "n_itr= math.ceil(t_sample/4)\n",
    "print(t_sample,n_itr)"
   ]
  },
  {
   "cell_type": "markdown",
   "id": "33ddbc10",
   "metadata": {},
   "source": [
    "# NN model creation in pytorch"
   ]
  },
  {
   "cell_type": "code",
   "execution_count": 2,
   "id": "ea5453f7",
   "metadata": {},
   "outputs": [],
   "source": [
    "import torch.nn as nn\n",
    "#option 1\n",
    "class NN(nn.Module):\n",
    "    def __int__(self,input_size, hidden_size,num_classes):\n",
    "        super(NN,self).__init__()\n",
    "        self.linear1= nn.Linear(input_size,hidden_size)\n",
    "        self.relu = nn.ReLU()\n",
    "        self.linear2= nn.Linear(hidden_size,num_classes)\n",
    "    def forward(self,x):\n",
    "        out=self.linear1(x)\n",
    "        out= self.relu(out)\n",
    "        out=self.linear2(out)\n",
    "        return out\n",
    "\n",
    "#option 2\n",
    "class NN1(nn.Module):\n",
    "    def __int__(self,input_size, hidden_size,num_classes):\n",
    "        super(NN1,self).__init__()\n",
    "        self.linear1= nn.Linear(input_size,hidden_size)\n",
    "        self.linear2= nn.Linear(hidden_size,num_classes)\n",
    "    def forward(self,x):\n",
    "        out= torch.relu(self.linear1(x))\n",
    "        return out"
   ]
  },
  {
   "cell_type": "code",
   "execution_count": null,
   "id": "18712285",
   "metadata": {},
   "outputs": [],
   "source": []
  }
 ],
 "metadata": {
  "kernelspec": {
   "display_name": "Python 3",
   "language": "python",
   "name": "python3"
  },
  "language_info": {
   "codemirror_mode": {
    "name": "ipython",
    "version": 3
   },
   "file_extension": ".py",
   "mimetype": "text/x-python",
   "name": "python",
   "nbconvert_exporter": "python",
   "pygments_lexer": "ipython3",
   "version": "3.8.10"
  }
 },
 "nbformat": 4,
 "nbformat_minor": 5
}
